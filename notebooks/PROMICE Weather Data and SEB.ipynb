{
 "cells": [
  {
   "cell_type": "markdown",
   "metadata": {},
   "source": [
    "# PROMICE Weather Data and Surface Energy Balance\n",
    "\n",
    "## PROMICE Automated Weather Stations (AWS)\n",
    "\n",
    "- PROMICE overview: https://promice.org/WeatherStations.html\n",
    "- AWS data download, documentation, and citation info: https://www.promice.org/PromiceDataPortal/\n",
    "- Contact: Dirk Van As (dva@geus.dk)\n",
    "- References:\n",
    "  - [van As 2011](https://doi.org/10.3189/002214311796405898)\n",
    "  - [van As et al. 2011](https://www.researchgate.net/publication/294552258_Programme_for_Monitoring_of_the_Greenland_Ice_Sheet_PROMICE_First_temperature_and_ablation_records)\n",
    "  \n",
    "## Data Processing\n",
    "\n",
    "- Data processing scripts are in the `scripts/promice` folder\n",
    "- Code for the surface energy balance (SEB) model is in `src/grpy/ebm.py`\n",
    "\n",
    "Data processing pipeline:\n",
    "\n",
    "1. Pre-process the hourly data files (datetime indexing, missing flags, etc.)\n",
    "2. Compute net energy fluxes and use SEB model to compute melt, sublimation, and ablation\n",
    "3. Post-processing: merge SEB outputs with other hourly fields, compute some additional fields and daily stats\n",
    "\n"
   ]
  },
  {
   "cell_type": "code",
   "execution_count": null,
   "metadata": {},
   "outputs": [],
   "source": []
  }
 ],
 "metadata": {
  "kernelspec": {
   "display_name": "Python [conda env:greenland]",
   "language": "python",
   "name": "conda-env-greenland-py"
  },
  "language_info": {
   "codemirror_mode": {
    "name": "ipython",
    "version": 3
   },
   "file_extension": ".py",
   "mimetype": "text/x-python",
   "name": "python",
   "nbconvert_exporter": "python",
   "pygments_lexer": "ipython3",
   "version": "3.9.0"
  }
 },
 "nbformat": 4,
 "nbformat_minor": 4
}
